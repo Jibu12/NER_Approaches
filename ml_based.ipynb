{
 "cells": [
  {
   "cell_type": "code",
   "execution_count": 5,
   "id": "af0a6846-942b-430f-a960-41dbf367d9dc",
   "metadata": {},
   "outputs": [],
   "source": [
    "import spacy\n",
    "import requests\n",
    "\n",
    "# Load the pre-trained SpaCy model\n",
    "nlp = spacy.load(\"en_core_web_sm\")"
   ]
  },
  {
   "cell_type": "code",
   "execution_count": 11,
   "id": "592b4db3-dcd6-4ba5-9304-efbaa2b8e616",
   "metadata": {},
   "outputs": [],
   "source": [
    "# Function to fetch a news article using News API (you can replace with any other API)\n",
    "def fetch_news_article():\n",
    "    api_key = 'd44149a035eb4c1cb5cac23dc96b8ece'  # Replace with your News API key\n",
    "    url = f'https://newsapi.org/v2/top-headlines?country=us&apiKey={api_key}'\n",
    "    response = requests.get(url)\n",
    "    \n",
    "    # Debugging: Check the status of the response\n",
    "    print(f\"Response Status Code: {response.status_code}\")\n",
    "    \n",
    "    if response.status_code == 200:\n",
    "        data = response.json()\n",
    "        \n",
    "        if data['articles']:\n",
    "            # Try to get the content, if not available, use description or title\n",
    "            article = data['articles'][0].get('content') or data['articles'][0].get('description') or data['articles'][0].get('title')\n",
    "            print(f\"Article Content: {article[:500]}...\")  # Print the first 500 characters for inspection\n",
    "        else:\n",
    "            article = None\n",
    "            print(\"No articles found in the response.\")\n",
    "    else:\n",
    "        article = None\n",
    "        print(\"Failed to fetch the article, check your API key or network connection.\")\n",
    "    \n",
    "    return article\n"
   ]
  },
  {
   "cell_type": "code",
   "execution_count": 12,
   "id": "7ac3e6de-52bd-41cb-92ce-d89d42558c3d",
   "metadata": {},
   "outputs": [
    {
     "name": "stdout",
     "output_type": "stream",
     "text": [
      "Response Status Code: 200\n",
      "Article Content: US job growth slows to 114K in July while unemployment unexpectedly jumps - Fox Business...\n"
     ]
    }
   ],
   "source": [
    "# Fetch a news article\n",
    "article = fetch_news_article()"
   ]
  },
  {
   "cell_type": "code",
   "execution_count": 13,
   "id": "871da923-72af-41e3-9296-fe53bbe6c47c",
   "metadata": {},
   "outputs": [
    {
     "name": "stdout",
     "output_type": "stream",
     "text": [
      "\n",
      "Named Entities (SpaCy):\n",
      "('US', 'GPE')\n",
      "('114', 'CARDINAL')\n",
      "('July', 'DATE')\n"
     ]
    }
   ],
   "source": [
    "if article:\n",
    "    # Process the article using SpaCy\n",
    "    doc = nlp(article)\n",
    "    entities_spacy = [(ent.text, ent.label_) for ent in doc.ents]\n",
    "\n",
    "    print(\"\\nNamed Entities (SpaCy):\")\n",
    "    for entity in entities_spacy:\n",
    "        print(entity)\n",
    "else:\n",
    "    print(\"No article content available to process.\")"
   ]
  },
  {
   "cell_type": "code",
   "execution_count": 14,
   "id": "7a4c2099-6caa-4df4-9f0d-c75f949c7f16",
   "metadata": {},
   "outputs": [],
   "source": [
    "# Process the article using SpaCy\n",
    "doc = nlp(article)"
   ]
  },
  {
   "cell_type": "code",
   "execution_count": 15,
   "id": "4293f3fc-acd3-4d8f-ace1-01d1ca2474e2",
   "metadata": {},
   "outputs": [],
   "source": [
    "# Extract named entities\n",
    "entities_spacy = [(ent.text, ent.label_) for ent in doc.ents]"
   ]
  },
  {
   "cell_type": "code",
   "execution_count": 16,
   "id": "0f55f61a-8d61-48b5-bc14-ffa97332a056",
   "metadata": {},
   "outputs": [
    {
     "name": "stdout",
     "output_type": "stream",
     "text": [
      "Named Entities (SpaCy):\n",
      "('US', 'GPE')\n",
      "('114', 'CARDINAL')\n",
      "('July', 'DATE')\n"
     ]
    }
   ],
   "source": [
    "print(\"Named Entities (SpaCy):\")\n",
    "for entity in entities_spacy:\n",
    "    print(entity)"
   ]
  },
  {
   "cell_type": "code",
   "execution_count": null,
   "id": "5f0a5030-39c4-41a5-bd54-48d66505a944",
   "metadata": {},
   "outputs": [],
   "source": []
  }
 ],
 "metadata": {
  "kernelspec": {
   "display_name": "Python 3 (ipykernel)",
   "language": "python",
   "name": "python3"
  },
  "language_info": {
   "codemirror_mode": {
    "name": "ipython",
    "version": 3
   },
   "file_extension": ".py",
   "mimetype": "text/x-python",
   "name": "python",
   "nbconvert_exporter": "python",
   "pygments_lexer": "ipython3",
   "version": "3.11.4"
  }
 },
 "nbformat": 4,
 "nbformat_minor": 5
}
