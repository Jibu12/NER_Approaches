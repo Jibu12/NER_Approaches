{
 "cells": [
  {
   "cell_type": "code",
   "execution_count": 1,
   "id": "397f76db-62d8-4151-83fc-c3ee7cfe2d26",
   "metadata": {},
   "outputs": [],
   "source": [
    "import nltk\n",
    "import requests\n",
    "from nltk import word_tokenize, pos_tag, ne_chunk"
   ]
  },
  {
   "cell_type": "code",
   "execution_count": 2,
   "id": "23d15830-4e9d-4c09-b73c-a5862ae6dbe6",
   "metadata": {},
   "outputs": [
    {
     "name": "stderr",
     "output_type": "stream",
     "text": [
      "[nltk_data] Downloading package punkt to\n",
      "[nltk_data]     C:\\Users\\acer\\AppData\\Roaming\\nltk_data...\n",
      "[nltk_data]   Package punkt is already up-to-date!\n",
      "[nltk_data] Downloading package maxent_ne_chunker to\n",
      "[nltk_data]     C:\\Users\\acer\\AppData\\Roaming\\nltk_data...\n",
      "[nltk_data]   Package maxent_ne_chunker is already up-to-date!\n",
      "[nltk_data] Downloading package words to\n",
      "[nltk_data]     C:\\Users\\acer\\AppData\\Roaming\\nltk_data...\n",
      "[nltk_data]   Package words is already up-to-date!\n",
      "[nltk_data] Downloading package averaged_perceptron_tagger to\n",
      "[nltk_data]     C:\\Users\\acer\\AppData\\Roaming\\nltk_data...\n",
      "[nltk_data]   Package averaged_perceptron_tagger is already up-to-\n",
      "[nltk_data]       date!\n"
     ]
    },
    {
     "data": {
      "text/plain": [
       "True"
      ]
     },
     "execution_count": 2,
     "metadata": {},
     "output_type": "execute_result"
    }
   ],
   "source": [
    "# Download NLTK resources if not already downloaded\n",
    "nltk.download('punkt')\n",
    "nltk.download('maxent_ne_chunker')\n",
    "nltk.download('words')\n",
    "nltk.download('averaged_perceptron_tagger')"
   ]
  },
  {
   "cell_type": "code",
   "execution_count": 6,
   "id": "958f3c4a-7e3f-4559-b650-a9f9b4401352",
   "metadata": {},
   "outputs": [],
   "source": [
    "# Function to fetch a news article using News API (you can replace with any other API)\n",
    "def fetch_news_article():\n",
    "    api_key = 'd44149a035eb4c1cb5cac23dc96b8ece'  # Replace with your News API key\n",
    "    url = f'https://newsapi.org/v2/top-headlines?country=us&apiKey={api_key}'\n",
    "    response = requests.get(url)\n",
    "    \n",
    "    # Debugging: Check the status of the response\n",
    "    print(f\"Response Status Code: {response.status_code}\")\n",
    "    \n",
    "    if response.status_code == 200:\n",
    "        data = response.json()\n",
    "        \n",
    "        if data['articles']:\n",
    "            # Try to get the content, if not available, use description or title\n",
    "            article = data['articles'][0].get('content') or data['articles'][0].get('description') or data['articles'][0].get('title')\n",
    "            if article:\n",
    "                print(f\"Article Content: {article[:500]}...\")  # Print the first 500 characters for inspection\n",
    "            else:\n",
    "                print(\"No valid content found in the article.\")\n",
    "        else:\n",
    "            article = None\n",
    "            print(\"No articles found in the response.\")\n",
    "    else:\n",
    "        article = None\n",
    "        print(\"Failed to fetch the article, check your API key or network connection.\")\n",
    "    \n",
    "    return article"
   ]
  },
  {
   "cell_type": "code",
   "execution_count": 7,
   "id": "9cb6393d-c513-4b37-804d-2e2706b4c205",
   "metadata": {},
   "outputs": [
    {
     "name": "stdout",
     "output_type": "stream",
     "text": [
      "Response Status Code: 200\n",
      "Article Content: Harris has secured enough Democratic delegate votes to become their party's nominee, chair says - The Associated Press...\n"
     ]
    }
   ],
   "source": [
    "# Fetch a news article\n",
    "article = fetch_news_article()"
   ]
  },
  {
   "cell_type": "code",
   "execution_count": 8,
   "id": "bb99eaa5-9494-40bd-99ab-7dae737a8a80",
   "metadata": {},
   "outputs": [
    {
     "name": "stdout",
     "output_type": "stream",
     "text": [
      "\n",
      "Named Entities (NLTK):\n",
      "GPE - Harris\n",
      "ORGANIZATION - Democratic\n",
      "ORGANIZATION - Associated\n"
     ]
    }
   ],
   "source": [
    "if article:\n",
    "    # Tokenize the article\n",
    "    tokens = word_tokenize(article)\n",
    "\n",
    "    # POS tagging\n",
    "    pos_tags = pos_tag(tokens)\n",
    "\n",
    "    # Named Entity Recognition using NLTK\n",
    "    entities_nltk = ne_chunk(pos_tags)\n",
    "\n",
    "    print(\"\\nNamed Entities (NLTK):\")\n",
    "    for entity in entities_nltk:\n",
    "        if hasattr(entity, 'label'):\n",
    "            print(f\"{entity.label()} - {' '.join(c[0] for c in entity)}\")\n",
    "else:\n",
    "    print(\"No article content available to process.\")"
   ]
  },
  {
   "cell_type": "code",
   "execution_count": null,
   "id": "518b7e50-376e-4454-99bc-73c2c69f2234",
   "metadata": {},
   "outputs": [],
   "source": []
  }
 ],
 "metadata": {
  "kernelspec": {
   "display_name": "Python 3 (ipykernel)",
   "language": "python",
   "name": "python3"
  },
  "language_info": {
   "codemirror_mode": {
    "name": "ipython",
    "version": 3
   },
   "file_extension": ".py",
   "mimetype": "text/x-python",
   "name": "python",
   "nbconvert_exporter": "python",
   "pygments_lexer": "ipython3",
   "version": "3.11.4"
  }
 },
 "nbformat": 4,
 "nbformat_minor": 5
}
